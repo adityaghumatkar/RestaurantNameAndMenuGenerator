{
 "cells": [
  {
   "cell_type": "code",
   "execution_count": 1,
   "metadata": {},
   "outputs": [],
   "source": [
    "from secret_key import API_TOKEN, REPO_ID\n",
    "from langchain.prompts import PromptTemplate\n",
    "from langchain_huggingface import HuggingFaceEndpoint\n",
    "from langchain.chains import SequentialChain, LLMChain\n"
   ]
  },
  {
   "cell_type": "code",
   "execution_count": 100,
   "metadata": {},
   "outputs": [
    {
     "name": "stderr",
     "output_type": "stream",
     "text": [
      "WARNING! max_length is not default parameter.\n",
      "                    max_length was transferred to model_kwargs.\n",
      "                    Please make sure that max_length is what you intended.\n"
     ]
    },
    {
     "name": "stdout",
     "output_type": "stream",
     "text": [
      "The token has not been saved to the git credentials helper. Pass `add_to_git_credential=True` in this function directly or `--add-to-git-credential` if using via `huggingface-cli` if you want to set the git credential as well.\n",
      "Token is valid (permission: fineGrained).\n",
      "Your token has been saved to C:\\Users\\wotcw4\\.cache\\huggingface\\token\n",
      "Login successful\n"
     ]
    }
   ],
   "source": [
    "\n",
    "llm = HuggingFaceEndpoint(\n",
    "        repo_id=REPO_ID,\n",
    "        max_length=128,\n",
    "        temperature=0.5,\n",
    "        huggingfacehub_api_token=API_TOKEN,\n",
    "    )"
   ]
  },
  {
   "cell_type": "code",
   "execution_count": 109,
   "metadata": {},
   "outputs": [],
   "source": [
    "name_template = PromptTemplate(\n",
    "        input_variables=[\"selected_cusine\"],\n",
    "        template=\"\"\"Generate one fancy restaurant name for {selected_cusine} cuisine. Only return the name. Do not include explanations, descriptions, or any additional context.\"\"\",\n",
    "    )\n",
    "\n",
    "name_chain = LLMChain(llm = llm, prompt = name_template, output_key = \"restaurant_name\")\n",
    "# restaurant_name = name_chain.invoke(\"mexican\")"
   ]
  },
  {
   "cell_type": "code",
   "execution_count": 99,
   "metadata": {},
   "outputs": [],
   "source": [
    "menu_item_template = PromptTemplate(\n",
    "    input_variables=[\"selected_cusine\"],\n",
    "    template=\"\"\"Generate 5 fancy menu items for {selected_cusine} cuisine in a clean JSON format.\n",
    "    Each item should have a 'name' and 'description' field only. Do not include extra text, headings, or additional information beyond the JSON structure.\"\"\",\n",
    ")\n",
    "\n",
    "menu_chain = LLMChain(llm = llm, prompt = menu_item_template, output_key = \"menu_items\")\n",
    "# menu = menu_chain.invoke(\"mexican\")"
   ]
  },
  {
   "cell_type": "code",
   "execution_count": 101,
   "metadata": {},
   "outputs": [
    {
     "name": "stdout",
     "output_type": "stream",
     "text": [
      "{'selected_cusine': 'indian', 'restaurant_name': '\\n\\n\"Saffron Symphony\"', 'menu_items': '\\n\\n    [\\n        {\\n            \"name\": \"Methi Malai Mushroom\",\\n            \"description\": \"Tender mushrooms cooked in a creamy fenugreek sauce, served with naan.\"\\n        },\\n        {\\n            \"name\": \"Aloo Gobi\",\\n            \"description\": \"Crispy cauliflower and potatoes cooked in a fragrant spice blend, served with basmati rice.\"\\n        },\\n        {\\n            \"name\": \"Lamb Rogan Josh\",\\n            \"description\": \"Tender lamb simmered in a rich, aromatic gravy made with tomatoes, yogurt, and Kashmiri spices.\"\\n        },\\n        {\\n            \"name\": \"Palak Paneer\",\\n            \"description\": \"Creamy spinach puree with soft, fresh paneer cheese, served with garlic naan.\"\\n        },\\n        {\\n            \"name\": \"Biryani\",\\n            \"description\": \"A flavorful rice dish layered with marinated chicken, aromatic spices, and saffron.\"\\n        }\\n    ]'}\n"
     ]
    }
   ],
   "source": [
    "from langchain.chains import SequentialChain\n",
    "schain = SequentialChain(\n",
    "    chains=[name_chain, menu_chain],\n",
    "    input_variables=[\"selected_cusine\"],\n",
    "    output_variables=[\"restaurant_name\", \"menu_items\"],\n",
    ")\n",
    "res = schain.invoke({\"selected_cusine\":\"indian\"})\n",
    "print(res)"
   ]
  },
  {
   "cell_type": "code",
   "execution_count": 105,
   "metadata": {},
   "outputs": [
    {
     "name": "stdout",
     "output_type": "stream",
     "text": [
      "[{'name': 'Methi Malai Mushroom', 'description': 'Tender mushrooms cooked in a creamy fenugreek sauce, served with naan.'}, {'name': 'Aloo Gobi', 'description': 'Crispy cauliflower and potatoes cooked in a fragrant spice blend, served with basmati rice.'}, {'name': 'Lamb Rogan Josh', 'description': 'Tender lamb simmered in a rich, aromatic gravy made with tomatoes, yogurt, and Kashmiri spices.'}, {'name': 'Palak Paneer', 'description': 'Creamy spinach puree with soft, fresh paneer cheese, served with garlic naan.'}, {'name': 'Biryani', 'description': 'A flavorful rice dish layered with marinated chicken, aromatic spices, and saffron.'}]\n"
     ]
    }
   ],
   "source": [
    "import json\n",
    "resname = res[\"restaurant_name\"]\n",
    "menuitem = res[\"menu_items\"]\n",
    "print(json.loads(menuitem))"
   ]
  },
  {
   "cell_type": "code",
   "execution_count": 106,
   "metadata": {},
   "outputs": [
    {
     "name": "stdout",
     "output_type": "stream",
     "text": [
      "Methi Malai Mushroom Tender mushrooms cooked in a creamy fenugreek sauce, served with naan.\n",
      "Aloo Gobi Crispy cauliflower and potatoes cooked in a fragrant spice blend, served with basmati rice.\n",
      "Lamb Rogan Josh Tender lamb simmered in a rich, aromatic gravy made with tomatoes, yogurt, and Kashmiri spices.\n",
      "Palak Paneer Creamy spinach puree with soft, fresh paneer cheese, served with garlic naan.\n",
      "Biryani A flavorful rice dish layered with marinated chicken, aromatic spices, and saffron.\n"
     ]
    }
   ],
   "source": [
    "j = json.loads(menuitem)\n",
    "for i in j:\n",
    "    print(i[\"name\"], i[\"description\"])"
   ]
  },
  {
   "cell_type": "code",
   "execution_count": 78,
   "metadata": {},
   "outputs": [
    {
     "name": "stdout",
     "output_type": "stream",
     "text": [
      "Quesadilla de Pollo\n",
      "Tacos al Pastor\n",
      "Enchiladas Rojas\n",
      "Guacamole\n",
      "Nachos Supremos\n",
      "Chiles Rellenos\n",
      "Sopa de Tortilla\n",
      "Margarita\n"
     ]
    }
   ],
   "source": [
    "for key, value in menu_items.items():\n",
    "        menu_name = value.split('-')[0].strip()\n",
    "        print(menu_name)"
   ]
  },
  {
   "cell_type": "code",
   "execution_count": 64,
   "metadata": {},
   "outputs": [],
   "source": [
    "# import json\n",
    "# # Extracting the menu_item and cleaning it\n",
    "# menu_item_str = res['menu_item'].strip('```json').strip()\n",
    "\n",
    "# # Parsing the JSON string\n",
    "# menu_items = json.loads(menu_item_str)"
   ]
  },
  {
   "cell_type": "code",
   "execution_count": null,
   "metadata": {},
   "outputs": [],
   "source": []
  }
 ],
 "metadata": {
  "kernelspec": {
   "display_name": ".venv",
   "language": "python",
   "name": "python3"
  },
  "language_info": {
   "codemirror_mode": {
    "name": "ipython",
    "version": 3
   },
   "file_extension": ".py",
   "mimetype": "text/x-python",
   "name": "python",
   "nbconvert_exporter": "python",
   "pygments_lexer": "ipython3",
   "version": "3.12.3"
  }
 },
 "nbformat": 4,
 "nbformat_minor": 2
}
