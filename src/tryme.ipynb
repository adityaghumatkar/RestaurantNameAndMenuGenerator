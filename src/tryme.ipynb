{
 "cells": [
  {
   "cell_type": "code",
   "execution_count": 2,
   "metadata": {},
   "outputs": [],
   "source": [
    "from secret_key import API_TOKEN, REPO_ID\n",
    "from langchain.prompts import PromptTemplate\n",
    "from langchain_huggingface import HuggingFaceEndpoint\n",
    "from langchain.chains import SequentialChain, LLMChain\n"
   ]
  },
  {
   "cell_type": "code",
   "execution_count": 3,
   "metadata": {},
   "outputs": [
    {
     "name": "stderr",
     "output_type": "stream",
     "text": [
      "WARNING! max_length is not default parameter.\n",
      "                    max_length was transferred to model_kwargs.\n",
      "                    Please make sure that max_length is what you intended.\n",
      "d:\\Learning\\Python\\My Github project\\Restaurant\\.venv\\Lib\\site-packages\\tqdm\\auto.py:21: TqdmWarning: IProgress not found. Please update jupyter and ipywidgets. See https://ipywidgets.readthedocs.io/en/stable/user_install.html\n",
      "  from .autonotebook import tqdm as notebook_tqdm\n"
     ]
    },
    {
     "name": "stdout",
     "output_type": "stream",
     "text": [
      "The token has not been saved to the git credentials helper. Pass `add_to_git_credential=True` in this function directly or `--add-to-git-credential` if using via `huggingface-cli` if you want to set the git credential as well.\n",
      "Token is valid (permission: fineGrained).\n",
      "Your token has been saved to C:\\Users\\wotcw4\\.cache\\huggingface\\token\n",
      "Login successful\n"
     ]
    }
   ],
   "source": [
    "\n",
    "llm = HuggingFaceEndpoint(\n",
    "        repo_id=REPO_ID,\n",
    "        max_length=128,\n",
    "        temperature=0.5,\n",
    "        huggingfacehub_api_token=API_TOKEN,\n",
    "    )"
   ]
  },
  {
   "cell_type": "code",
   "execution_count": 109,
   "metadata": {},
   "outputs": [],
   "source": [
    "name_template = PromptTemplate(\n",
    "        input_variables=[\"selected_cusine\"],\n",
    "        template=\"\"\"Generate one fancy restaurant name for {selected_cusine} cuisine. Only return the name. Do not include explanations, descriptions, or any additional context.\"\"\",\n",
    "    )\n",
    "\n",
    "name_chain = LLMChain(llm = llm, prompt = name_template, output_key = \"restaurant_name\")\n",
    "# restaurant_name = name_chain.invoke(\"mexican\")"
   ]
  },
  {
   "cell_type": "code",
   "execution_count": 99,
   "metadata": {},
   "outputs": [],
   "source": [
    "menu_item_template = PromptTemplate(\n",
    "    input_variables=[\"selected_cusine\"],\n",
    "    template=\"\"\"Generate 5 fancy menu items for {selected_cusine} cuisine in a clean JSON format.\n",
    "    Each item should have a 'name' and 'description' field only. Do not include extra text, headings, or additional information beyond the JSON structure.\"\"\",\n",
    ")\n",
    "\n",
    "menu_chain = LLMChain(llm = llm, prompt = menu_item_template, output_key = \"menu_items\")\n",
    "# menu = menu_chain.invoke(\"mexican\")"
   ]
  },
  {
   "cell_type": "code",
   "execution_count": 101,
   "metadata": {},
   "outputs": [
    {
     "name": "stdout",
     "output_type": "stream",
     "text": [
      "{'selected_cusine': 'indian', 'restaurant_name': '\\n\\n\"Saffron Symphony\"', 'menu_items': '\\n\\n    [\\n        {\\n            \"name\": \"Methi Malai Mushroom\",\\n            \"description\": \"Tender mushrooms cooked in a creamy fenugreek sauce, served with naan.\"\\n        },\\n        {\\n            \"name\": \"Aloo Gobi\",\\n            \"description\": \"Crispy cauliflower and potatoes cooked in a fragrant spice blend, served with basmati rice.\"\\n        },\\n        {\\n            \"name\": \"Lamb Rogan Josh\",\\n            \"description\": \"Tender lamb simmered in a rich, aromatic gravy made with tomatoes, yogurt, and Kashmiri spices.\"\\n        },\\n        {\\n            \"name\": \"Palak Paneer\",\\n            \"description\": \"Creamy spinach puree with soft, fresh paneer cheese, served with garlic naan.\"\\n        },\\n        {\\n            \"name\": \"Biryani\",\\n            \"description\": \"A flavorful rice dish layered with marinated chicken, aromatic spices, and saffron.\"\\n        }\\n    ]'}\n"
     ]
    }
   ],
   "source": [
    "from langchain.chains import SequentialChain\n",
    "schain = SequentialChain(\n",
    "    chains=[name_chain, menu_chain],\n",
    "    input_variables=[\"selected_cusine\"],\n",
    "    output_variables=[\"restaurant_name\", \"menu_items\"],\n",
    ")\n",
    "res = schain.invoke({\"selected_cusine\":\"indian\"})\n",
    "print(res)"
   ]
  },
  {
   "cell_type": "code",
   "execution_count": 105,
   "metadata": {},
   "outputs": [
    {
     "name": "stdout",
     "output_type": "stream",
     "text": [
      "[{'name': 'Methi Malai Mushroom', 'description': 'Tender mushrooms cooked in a creamy fenugreek sauce, served with naan.'}, {'name': 'Aloo Gobi', 'description': 'Crispy cauliflower and potatoes cooked in a fragrant spice blend, served with basmati rice.'}, {'name': 'Lamb Rogan Josh', 'description': 'Tender lamb simmered in a rich, aromatic gravy made with tomatoes, yogurt, and Kashmiri spices.'}, {'name': 'Palak Paneer', 'description': 'Creamy spinach puree with soft, fresh paneer cheese, served with garlic naan.'}, {'name': 'Biryani', 'description': 'A flavorful rice dish layered with marinated chicken, aromatic spices, and saffron.'}]\n"
     ]
    }
   ],
   "source": [
    "import json\n",
    "resname = res[\"restaurant_name\"]\n",
    "menuitem = res[\"menu_items\"]\n",
    "print(json.loads(menuitem))"
   ]
  },
  {
   "cell_type": "code",
   "execution_count": 106,
   "metadata": {},
   "outputs": [
    {
     "name": "stdout",
     "output_type": "stream",
     "text": [
      "Methi Malai Mushroom Tender mushrooms cooked in a creamy fenugreek sauce, served with naan.\n",
      "Aloo Gobi Crispy cauliflower and potatoes cooked in a fragrant spice blend, served with basmati rice.\n",
      "Lamb Rogan Josh Tender lamb simmered in a rich, aromatic gravy made with tomatoes, yogurt, and Kashmiri spices.\n",
      "Palak Paneer Creamy spinach puree with soft, fresh paneer cheese, served with garlic naan.\n",
      "Biryani A flavorful rice dish layered with marinated chicken, aromatic spices, and saffron.\n"
     ]
    }
   ],
   "source": [
    "j = json.loads(menuitem)\n",
    "for i in j:\n",
    "    print(i[\"name\"], i[\"description\"])"
   ]
  },
  {
   "cell_type": "code",
   "execution_count": 78,
   "metadata": {},
   "outputs": [
    {
     "name": "stdout",
     "output_type": "stream",
     "text": [
      "Quesadilla de Pollo\n",
      "Tacos al Pastor\n",
      "Enchiladas Rojas\n",
      "Guacamole\n",
      "Nachos Supremos\n",
      "Chiles Rellenos\n",
      "Sopa de Tortilla\n",
      "Margarita\n"
     ]
    }
   ],
   "source": [
    "for key, value in menu_items.items():\n",
    "        menu_name = value.split('-')[0].strip()\n",
    "        print(menu_name)"
   ]
  },
  {
   "cell_type": "code",
   "execution_count": 64,
   "metadata": {},
   "outputs": [],
   "source": [
    "# import json\n",
    "# # Extracting the menu_item and cleaning it\n",
    "# menu_item_str = res['menu_item'].strip('```json').strip()\n",
    "\n",
    "# # Parsing the JSON string\n",
    "# menu_items = json.loads(menu_item_str)"
   ]
  },
  {
   "cell_type": "code",
   "execution_count": 6,
   "metadata": {},
   "outputs": [
    {
     "name": "stderr",
     "output_type": "stream",
     "text": [
      "C:\\Users\\wotcw4\\AppData\\Local\\Temp\\ipykernel_11616\\237138983.py:3: LangChainDeprecationWarning: The function `initialize_agent` was deprecated in LangChain 0.1.0 and will be removed in 1.0. Use Use new agent constructor methods like create_react_agent, create_json_agent, create_structured_chat_agent, etc. instead.\n",
      "  agent = initialize_agent(\n",
      "Error in StdOutCallbackHandler.on_chain_start callback: AttributeError(\"'NoneType' object has no attribute 'get'\")\n"
     ]
    },
    {
     "name": "stdout",
     "output_type": "stream",
     "text": [
      "\u001b[32;1m\u001b[1;3m I need to find out Elon Musk's birth year and calculate his age in 2024. I can use Wikipedia to find out his birth year, and Calculator to calculate his age.\n",
      "Action: wikipedia\n",
      "Action Input: Elon Musk birth year\u001b[0m\n",
      "Observation: \u001b[36;1m\u001b[1;3mPage: Family of Elon Musk\n",
      "Summary: Elon Musk's family consists  of several notable individuals, among them his mother Maye Musk, a model and author, his father Errol Musk, a businessman and politician, his siblings Kimbal Musk  and Tosca Musk, and his cousin Lyndon Rive. His ex-wives are Justine Musk and Tallauh Riley.\n",
      "\n",
      "\n",
      "\n",
      "Page: Views of Elon Musk\n",
      "Summary: Elon Musk is the CEO or owner of multiple companies including Tesla, SpaceX, and X Corp, and has expressed many views on a wide variety of subjects, ranging from politics to science.\n",
      "Musk has often been described as libertarian, but also describes himself as \"politically moderate\". Following the COVID-19 pandemic, however, his views have also been described as becoming more right-wing and conservative over time. Within the context of American politics, Musk has said he supported Barack Obama in 2008 and 2012, Hillary Clinton in 2016, Joe Biden in 2020, and Donald Trump in 2024. In 2022, Musk said he would start voting for Republican Party candidates, with him showing support for Vivek Ramaswamy in the 2024 Republican presidential primaries. He has stated support for universal basic income, gun rights, freedom of speech, a tax on carbon emissions and opposes government subsidies. He is also a critic of illegal immigration and short-selling.\n",
      "Musk has expressed concern about issues such as artificial intelligence (AI), climate change and population decline. He has also criticized COVID-19 lockdowns, public transportation, and labor unions. He has promoted conspiracy theories, and made controversial statements that have led to accusations of antisemitism, support of white pride and transphobia. His views on international relations, including on the China-Taiwan and Russia-Ukraine conflicts, have received mixed reactions.\n",
      "\n",
      "Page: Elon Musk\n",
      "Summary: Elon Reeve Musk  (; born June 28, 1971) is a businessman and investor known for his key roles in the space company SpaceX and the automotive company Tesla, Inc. Other involvements include ownership of X Corp., the company that operates the social media platform X (formerly known as Twitter), and his role in the founding of The Boring Company, xAI, Neuralink, and OpenAI. He is one of the wealthiest individuals in the world; as of August 2024 Forbes estimates his net worth to be US$247 billion.\n",
      "Musk was born in Pretoria to Maye (née Haldeman), a model, and Errol Musk, a businessman and engineer. Musk briefly attended the University of Pretoria before immigrating to Canada at the age of 18, acquiring citizenship through his Canadian-born mother. Two years later he matriculated at Queen's University at Kingston in Canada. Musk later transferred to the University of Pennsylvania and received bachelor's degrees in economics and physics. He moved to California in 1995 to attend Stanford University, but dropped out after two days and, with his brother Kimbal, co-founded the online city guide software company Zip2. The startup was acquired by Compaq for $307 million in 1999. That same year Musk co-founded X.com, a direct bank. X.com merged with Confinity in 2000 to form PayPal. In October 2002, eBay acquired PayPal for $1.5 billion. Using $100 million of the money he made from the sale of PayPal, Musk founded SpaceX, a spaceflight services company, in 2002. \n",
      "In 2004, Musk was an early investor who provided most of the initial financing in the electric-vehicle manufacturer Tesla Motors, Inc. (later Tesla, Inc.), assuming the position of the company's chairman. He later became the product architect and, in 2008, the CEO. In 2006, Musk helped create SolarCity, a solar energy company that was acquired by Tesla in 2016 and became Tesla Energy. In 2013, he proposed a hyperloop high-speed vactrain transportation system. In 2015, he co-founded OpenAI, a nonprofit artificial intelligence research company. The following year Musk co-founded Neuralink—a neurotechnology company developing brain–computer interfaces—and The Boring Company, a tunnel constructio\u001b[0m\n",
      "Thought:\u001b[32;1m\u001b[1;3m I found the birth year of Elon Musk. I can now calculate his age in 2024.\n",
      "Action: Calculator\n",
      "Action Input: 1971 - 2024\u001b[0m\n",
      "Observation: \u001b[33;1m\u001b[1;3mAnswer: -53\u001b[0m\n",
      "Thought:\u001b[32;1m\u001b[1;3m The age of Elon Musk in 2024 is -53. This seems incorrect as a person's age can't be negative. I need to double check the calculation.\n",
      "Action: Calculator\n",
      "Action Input: 2024 - 1971\u001b[0m\n",
      "Observation: \u001b[33;1m\u001b[1;3mAnswer: 53\u001b[0m\n",
      "Thought:\u001b[32;1m\u001b[1;3m The age of Elon Musk in 2024 is 53.\n",
      "Final Answer: Elon Musk will be 53 years old in 2024.\u001b[0m\n",
      "\n",
      "\u001b[1m> Finished chain.\u001b[0m\n"
     ]
    }
   ],
   "source": [
    "from langchain.agents import AgentType, initialize_agent, load_tools\n",
    "tools = load_tools([\"wikipedia\",\"llm-math\"], llm=llm)\n",
    "agent = initialize_agent(\n",
    "    tools=tools,\n",
    "    llm=llm,\n",
    "    agent=AgentType.ZERO_SHOT_REACT_DESCRIPTION,\n",
    "    verbose=True,\n",
    ")\n",
    "agent.invoke(\"What is the age of Elon Musk in 2024?\");"
   ]
  },
  {
   "cell_type": "code",
   "execution_count": null,
   "metadata": {},
   "outputs": [],
   "source": []
  }
 ],
 "metadata": {
  "kernelspec": {
   "display_name": ".venv",
   "language": "python",
   "name": "python3"
  },
  "language_info": {
   "codemirror_mode": {
    "name": "ipython",
    "version": 3
   },
   "file_extension": ".py",
   "mimetype": "text/x-python",
   "name": "python",
   "nbconvert_exporter": "python",
   "pygments_lexer": "ipython3",
   "version": "3.12.3"
  }
 },
 "nbformat": 4,
 "nbformat_minor": 2
}
